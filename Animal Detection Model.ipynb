{
 "cells": [
  {
   "cell_type": "code",
   "execution_count": null,
   "id": "e17b4055",
   "metadata": {},
   "outputs": [],
   "source": [
    "!pip install tensorflow"
   ]
  },
  {
   "cell_type": "code",
   "execution_count": 2,
   "id": "3edc5acf",
   "metadata": {},
   "outputs": [
    {
     "name": "stderr",
     "output_type": "stream",
     "text": [
      "ERROR: Could not find a version that satisfies the requirement cv2 (from versions: none)\n",
      "ERROR: No matching distribution found for cv2\n"
     ]
    }
   ],
   "source": [
    "!pip install cv2"
   ]
  },
  {
   "cell_type": "code",
   "execution_count": null,
   "id": "fbdd0f26",
   "metadata": {},
   "outputs": [],
   "source": [
    "import os\n",
    "import glob as gb\n",
    "import numpy as np\n",
    "import pandas as pd\n",
    "import matplotlib.pyplot as plt\n",
    "from tensorflow.keras.applications.inception_v3 import InceptionV3\n",
    "from tensorflow.keras import Model, layers, Sequential, optimizers\n",
    "from tensorflow.keras.callbacks import ModelCheckpoint\n",
    "from tensorflow import keras\n",
    "from tensorflow.keras import callbacks, layers, Model\n",
    "import cv2\n",
    "import matplotlib.pyplot as plt\n",
    "import matplotlib.image as mpimg"
   ]
  },
  {
   "cell_type": "code",
   "execution_count": null,
   "id": "39ca4c6b",
   "metadata": {},
   "outputs": [],
   "source": [
    "train_dir= '../input/animals-detection-images-dataset/train'\n",
    "test_dir='../input/animals-detection-images-dataset/test'"
   ]
  },
  {
   "cell_type": "code",
   "execution_count": null,
   "id": "09ca1063",
   "metadata": {},
   "outputs": [],
   "source": [
    "training_images_files_names_raccoon = len(os.listdir(\"../input/animals-detection-images-dataset/train/Raccoon\"))-1\n",
    "training_images_files_names_horses = len(os.listdir(\"../input/animals-detection-images-dataset/train/Horse\"))-1\n",
    "training_images_files_names_goat = len(os.listdir(\"../input/animals-detection-images-dataset/train/Goat\"))-1\n",
    "training_images_files_names_mule = len(os.listdir(\"../input/animals-detection-images-dataset/train/Mule\"))-1\n",
    "training_images_files_names_duck = len(os.listdir(\"../input/animals-detection-images-dataset/train/Duck\"))-1\n",
    "training_images_files_names_owl = len(os.listdir(\"../input/animals-detection-images-dataset/train/Owl\"))-1\n",
    "training_images_files_names_bear = len(os.listdir(\"../input/animals-detection-images-dataset/train/Bear\"))-1\n",
    "training_images_files_names_chicken = len(os.listdir(\"../input/animals-detection-images-dataset/train/Chicken\"))-1\n",
    "training_images_files_names_fox = len(os.listdir(\"../input/animals-detection-images-dataset/train/Fox\"))-1\n",
    "training_images_files_names_pig = len(os.listdir(\"../input/animals-detection-images-dataset/train/Pig\"))-1\n",
    "training_images_files_names_sheep = len(os.listdir(\"../input/animals-detection-images-dataset/train/Sheep\"))-1\n",
    "training_images_files_names_cattle = len(os.listdir(\"../input/animals-detection-images-dataset/train/Cattle\"))-1\n",
    "print(\"Raccoon sample size : \",training_images_files_names_raccoon,\"\\n\")\n",
    "print(\"Horse sample size : \",training_images_files_names_horses,\"\\n\")\n",
    "print(\"Goat sample size : \",training_images_files_names_goat,\"\\n\")\n",
    "print(\"Mule sample size : \",training_images_files_names_mule,\"\\n\")\n",
    "print(\"Duck sample size : \",training_images_files_names_duck,\"\\n\")\n",
    "print(\"Owl sample size : \",training_images_files_names_owl,\"\\n\")\n",
    "print(\"Bear sample size : \",training_images_files_names_bear,\"\\n\")\n",
    "print(\"Chicken sample size : \",training_images_files_names_chicken,\"\\n\")\n",
    "print(\"Fox sample size : \",training_images_files_names_fox,\"\\n\")\n",
    "print(\"Pig sample size : \",training_images_files_names_pig,\"\\n\")\n",
    "print(\"Sheep sample size : \",training_images_files_names_sheep,\"\\n\")\n",
    "print(\"Cattle sample size : \",training_images_files_names_cattle,\"\\n\")\n",
    "training_data_size = training_images_files_names_raccoon+training_images_files_names_horses+training_images_files_names_goat+training_images_files_names_mule+training_images_files_names_duck+training_images_files_names_owl+training_images_files_names_bear+training_images_files_names_chicken+training_images_files_names_fox+training_images_files_names_pig+training_images_files_names_sheep+training_images_files_names_cattle\n",
    "occurences = [training_images_files_names_raccoon/training_data_size ,training_images_files_names_horses/training_data_size ,training_images_files_names_goat/training_data_size ,training_images_files_names_duck/training_data_size ,training_images_files_names_owl/training_data_size ,training_images_files_names_bear/training_data_size ,training_images_files_names_chicken/training_data_size,training_images_files_names_fox/training_data_size,training_images_files_names_sheep/training_data_size,training_images_files_names_cattle/training_data_size,training_images_files_names_mule/training_data_size,training_images_files_names_pig/training_data_size]\n",
    "print(\"training data size :\",training_data_size)\n",
    "fig = plt.figure(figsize=[20,10])\n",
    "ax = fig.add_axes([0,0,1,1])\n",
    "ax.bar([\"Raccoon\",\"Horse\",\"Goat\",\"Duck\",\"Owl\",\"Bear\",\"Chicken\",\"Fox\",\"Sheep\",\"Cattle\",\"Mule\",\"Pig\"],occurences)\n"
   ]
  },
  {
   "cell_type": "code",
   "execution_count": null,
   "id": "574b2250",
   "metadata": {},
   "outputs": [],
   "source": [
    "training_images_files_names_raccoon = len(os.listdir(\"../input/animals-detection-images-dataset/test/Raccoon\"))-1\n",
    "training_images_files_names_horses = len(os.listdir(\"../input/animals-detection-images-dataset/test/Horse\"))-1\n",
    "training_images_files_names_goat = len(os.listdir(\"../input/animals-detection-images-dataset/test/Goat\"))-1\n",
    "training_images_files_names_mule = len(os.listdir(\"../input/animals-detection-images-dataset/test/Mule\"))-1\n",
    "training_images_files_names_duck = len(os.listdir(\"../input/animals-detection-images-dataset/test/Duck\"))-1\n",
    "training_images_files_names_owl = len(os.listdir(\"../input/animals-detection-images-dataset/test/Owl\"))-1\n",
    "training_images_files_names_bear = len(os.listdir(\"../input/animals-detection-images-dataset/test/Bear\"))-1\n",
    "training_images_files_names_chicken = len(os.listdir(\"../input/animals-detection-images-dataset/test/Chicken\"))-1\n",
    "training_images_files_names_fox = len(os.listdir(\"../input/animals-detection-images-dataset/test/Fox\"))-1\n",
    "training_images_files_names_pig = len(os.listdir(\"../input/animals-detection-images-dataset/test/Pig\"))-1\n",
    "training_images_files_names_sheep = len(os.listdir(\"../input/animals-detection-images-dataset/test/Sheep\"))-1\n",
    "training_images_files_names_cattle = len(os.listdir(\"../input/animals-detection-images-dataset/test/Cattle\"))-1\n",
    "print(\"Raccoon sample size : \",training_images_files_names_raccoon,\"\\n\")\n",
    "print(\"Horse sample size : \",training_images_files_names_horses,\"\\n\")\n",
    "print(\"Goat sample size : \",training_images_files_names_goat,\"\\n\")\n",
    "print(\"Mule sample size : \",training_images_files_names_mule,\"\\n\")\n",
    "print(\"Duck sample size : \",training_images_files_names_duck,\"\\n\")\n",
    "print(\"Owl sample size : \",training_images_files_names_owl,\"\\n\")\n",
    "print(\"Bear sample size : \",training_images_files_names_bear,\"\\n\")\n",
    "print(\"Chicken sample size : \",training_images_files_names_chicken,\"\\n\")\n",
    "print(\"Fox sample size : \",training_images_files_names_fox,\"\\n\")\n",
    "print(\"Pig sample size : \",training_images_files_names_pig,\"\\n\")\n",
    "print(\"Sheep sample size : \",training_images_files_names_sheep,\"\\n\")\n",
    "print(\"Cattle sample size : \",training_images_files_names_cattle,\"\\n\")\n",
    "validation_data_size = training_images_files_names_raccoon+training_images_files_names_horses+training_images_files_names_goat+training_images_files_names_mule+training_images_files_names_duck+training_images_files_names_owl+training_images_files_names_bear+training_images_files_names_chicken+training_images_files_names_fox+training_images_files_names_pig+training_images_files_names_sheep+training_images_files_names_cattle\n",
    "occurences = [training_images_files_names_raccoon/training_data_size ,training_images_files_names_horses/training_data_size ,training_images_files_names_goat/training_data_size ,training_images_files_names_duck/training_data_size ,training_images_files_names_owl/training_data_size ,training_images_files_names_bear/training_data_size ,training_images_files_names_chicken/training_data_size,training_images_files_names_fox/training_data_size,training_images_files_names_sheep/training_data_size,training_images_files_names_cattle/training_data_size,training_images_files_names_mule/training_data_size,training_images_files_names_pig/training_data_size]\n",
    "print(\"validation data size:\",validation_data_size)\n",
    "fig = plt.figure(figsize=[20,10])\n",
    "ax = fig.add_axes([0,0,1,1])\n",
    "ax.bar([\"Raccoon\",\"Horse\",\"Goat\",\"Duck\",\"Owl\",\"Bear\",\"Chicken\",\"Fox\",\"Sheep\",\"Cattle\",\"Mule\",\"Pig\"],occurences)\n"
   ]
  },
  {
   "cell_type": "code",
   "execution_count": null,
   "id": "4a234126",
   "metadata": {},
   "outputs": [],
   "source": [
    "animals_to_detect = [\"Cattle\",\"Pig\",\"Horse\",\"Sheep\",\"Goat\",\"Chicken\",\"Mule\",\"Duck\",\"Fox\",\"Raccoon\",\"Bear\",\"Owl\"]"
   ]
  },
  {
   "cell_type": "code",
   "execution_count": null,
   "id": "fb8feb0f",
   "metadata": {},
   "outputs": [],
   "source": [
    "os.mkdir(\"yolo\")\n",
    "os.mkdir(\"yolo/test\")\n",
    "os.mkdir(\"yolo/test/images\")\n",
    "os.mkdir(\"yolo/test/labels\")\n",
    "os.mkdir(\"yolo/train\")\n",
    "os.mkdir(\"yolo/train/images\")\n",
    "os.mkdir(\"yolo/train/labels\")"
   ]
  },
  {
   "cell_type": "code",
   "execution_count": null,
   "id": "bb59f1c9",
   "metadata": {},
   "outputs": [],
   "source": [
    "!cd ./\n",
    "!ls"
   ]
  },
  {
   "cell_type": "code",
   "execution_count": null,
   "id": "24af031c",
   "metadata": {},
   "outputs": [],
   "source": [
    "size = (640,640)\n",
    "for animal_specie in animals_to_detect:\n",
    "    image_file_name = os.listdir(train_dir+\"/\"+animal_specie)\n",
    "    for i in range(0,len(image_file_name)):\n",
    "            if image_file_name[i] != \"Label\":\n",
    "                img = cv2.imread(train_dir+\"/\"+animal_specie+\"/\"+image_file_name[i], cv2.IMREAD_COLOR)\n",
    "                img = cv2.cvtColor(img,cv2.COLOR_BGR2RGB)\n",
    "                img = cv2.resize(img, size)\n",
    "                cv2.imwrite(\"yolo/train/images/\"+image_file_name[i], img) \n",
    "\n",
    "    image_file_name = os.listdir(test_dir+\"/\"+animal_specie)\n",
    "    for i in range(0,len(image_file_name)):\n",
    "            if image_file_name[i] != \"Label\":\n",
    "                img = cv2.imread(test_dir+\"/\"+animal_specie+\"/\"+image_file_name[i], cv2.IMREAD_COLOR)\n",
    "                img = cv2.cvtColor(img,cv2.COLOR_BGR2RGB)\n",
    "                img = cv2.resize(img, size)\n",
    "                cv2.imwrite(\"yolo/test/images/\"+image_file_name[i], img) "
   ]
  },
  {
   "cell_type": "code",
   "execution_count": null,
   "id": "2d6b9842",
   "metadata": {},
   "outputs": [],
   "source": [
    "animals_to_detect = [\"Cattle\",\"Pig\",\"Horse\",\"Sheep\",\"Goat\",\"Chicken\",\"Mule\",\"Duck\",\"Fox\",\"Raccoon\",\"Bear\",\"Owl\"]\n",
    "animals_encoding = {\"Cattle\":0,\"Pig\":1,\"Horse\":2,\"Sheep\":3,\"Goat\":4,\n",
    "                    \"Chicken\":5,\"Mule\":6,\"Duck\":7,\"Fox\":8,\"Raccoon\":9,\"Bear\":10,\"Owl\":11}"
   ]
  },
  {
   "cell_type": "code",
   "execution_count": null,
   "id": "4b97b136",
   "metadata": {},
   "outputs": [],
   "source": [
    "def process_files(input_files_path,output_files_path):\n",
    "    for animal_specie in animals_to_detect:\n",
    "        txt_file_name = os.listdir(input_files_path+\"/\"+animal_specie+\"/Label\")\n",
    "        for i in range(0,len(txt_file_name)):\n",
    "                with open(input_files_path+\"/\"+animal_specie + \"/Label/\" + txt_file_name[i], \"r\") as source:\n",
    "                       with open(output_files_path+\"/\"+ txt_file_name[i], \"w\") as destination :\n",
    "                            image_file_name_no_ext = txt_file_name[i][0:len(txt_file_name[i])-4]\n",
    "                            img = cv2.imread(input_files_path+\"/\"+animal_specie+\"/\"+image_file_name_no_ext+\".jpg\", \n",
    "                                             cv2.IMREAD_COLOR)\n",
    "                            height = img.shape[0]\n",
    "                            width = img.shape[1]\n",
    "                            for line in source:\n",
    "                                        labeling_data = line.split()\n",
    "                                        labeling_data[0] = animals_encoding[labeling_data[0]]\n",
    "                                        xmin = float(labeling_data[1])\n",
    "                                        ymin = float(labeling_data[2])\n",
    "                                        xmax = float(labeling_data[3])\n",
    "                                        ymax = float(labeling_data[4])\n",
    "                                        cx = (xmin + xmax)/2.0/width\n",
    "                                        cy = (ymin + ymax)/2.0/height\n",
    "                                        box_width = (xmax - xmin)/width\n",
    "                                        box_height = (ymax - ymin)/height\n",
    "                                        destination.write(str(labeling_data[0])+\" \")\n",
    "                                        destination.write(str(cx)+\" \")\n",
    "                                        destination.write(str(cy)+\" \")\n",
    "                                        destination.write(str(box_width)+\" \")\n",
    "                                        destination.write(str(box_height)+\"\\n\")"
   ]
  },
  {
   "cell_type": "code",
   "execution_count": null,
   "id": "22401018",
   "metadata": {},
   "outputs": [],
   "source": [
    "process_files(\"../input/animals-detection-images-dataset/train\",\"yolo/train/labels\")"
   ]
  },
  {
   "cell_type": "code",
   "execution_count": null,
   "id": "79b11bda",
   "metadata": {},
   "outputs": [],
   "source": [
    "process_files(\"../input/animals-detection-images-dataset/test\",\"yolo/test/labels\")"
   ]
  },
  {
   "cell_type": "code",
   "execution_count": null,
   "id": "192fdfad",
   "metadata": {},
   "outputs": [],
   "source": [
    "!git clone https://github.com/ultralytics/yolov5\n",
    "%cd yolov5\n",
    "%pip install -r requirements.txt"
   ]
  },
  {
   "cell_type": "code",
   "execution_count": null,
   "id": "4613355d",
   "metadata": {},
   "outputs": [],
   "source": [
    "%ls"
   ]
  },
  {
   "cell_type": "code",
   "execution_count": null,
   "id": "9456197e",
   "metadata": {},
   "outputs": [],
   "source": [
    "!cat data/coco128.yaml"
   ]
  },
  {
   "cell_type": "code",
   "execution_count": null,
   "id": "0af7bc70",
   "metadata": {},
   "outputs": [],
   "source": [
    "!touch data/animals.yaml\n",
    "%ls data"
   ]
  },
  {
   "cell_type": "code",
   "execution_count": null,
   "id": "f0d358b7",
   "metadata": {},
   "outputs": [],
   "source": [
    "path: ../yolo\n",
    "train: train/images \n",
    "val: test/images  \n",
    "names:\n",
    "  0: Cattle\n",
    "  1: Pig\n",
    "  2: Horse\n",
    "  3: Sheep\n",
    "  4: Goat\n",
    "  5: Chicken\n",
    "  6: Mule\n",
    "  7: Duck\n",
    "  8: Fox\n",
    "  9: Raccoon\n",
    "  10: Bear\n",
    "  11: Owl\n",
    "\"\"\""
   ]
  },
  {
   "cell_type": "code",
   "execution_count": null,
   "id": "5cf18a3b",
   "metadata": {},
   "outputs": [],
   "source": [
    "with open(\"data/animals.yaml\", \"w\") as yaml_file:\n",
    "    yaml_file.write(\"path: ../yolo  # train images (relative to 'path') 128 images\"+\"\\n\")\n",
    "    yaml_file.write(\"train: train/images  # train images (relative to 'path') 128 images\"+\"\\n\")\n",
    "    yaml_file.write(\"val: test/images  # val images (relative to 'path') 128 images\"+\"\\n\")\n",
    "    yaml_file.write(\"names:\"+\"\\n\")\n",
    "    yaml_file.write(\" 0: Cattle\"+\"\\n\")\n",
    "    yaml_file.write(\" 1: Pig\"+\"\\n\")\n",
    "    yaml_file.write(\" 2: Horse\"+\"\\n\")\n",
    "    yaml_file.write(\" 3: Sheep\"+\"\\n\")\n",
    "    yaml_file.write(\" 4: Goat\"+\"\\n\")\n",
    "    yaml_file.write(\" 5: Chicken\"+\"\\n\")\n",
    "    yaml_file.write(\" 6: Mule\"+\"\\n\")\n",
    "    yaml_file.write(\" 7: Duck\"+\"\\n\")\n",
    "    yaml_file.write(\" 8: Fox\"+\"\\n\")\n",
    "    yaml_file.write(\" 9: Raccoon\"+\"\\n\")\n",
    "    yaml_file.write(\" 10: Bear\"+\"\\n\")\n",
    "    yaml_file.write(\" 11: Owl\"+\"\\n\")"
   ]
  },
  {
   "cell_type": "code",
   "execution_count": null,
   "id": "68a488af",
   "metadata": {},
   "outputs": [],
   "source": [
    "!ls"
   ]
  },
  {
   "cell_type": "code",
   "execution_count": null,
   "id": "bfab0625",
   "metadata": {},
   "outputs": [],
   "source": [
    "!python train.py --img 640 --batch 32 --epochs 30 --data animals.yaml --weights yolov5s.pt --project runs/train"
   ]
  },
  {
   "cell_type": "code",
   "execution_count": null,
   "id": "748cf97a",
   "metadata": {},
   "outputs": [],
   "source": [
    "%cp /kaggle/working/yolov5/runs/train/exp/weights/best.pt /kaggle/working/"
   ]
  },
  {
   "cell_type": "code",
   "execution_count": null,
   "id": "ed6c72ba",
   "metadata": {},
   "outputs": [],
   "source": [
    "%ls runs/train/exp/weights"
   ]
  },
  {
   "cell_type": "code",
   "execution_count": null,
   "id": "c208fab0",
   "metadata": {},
   "outputs": [],
   "source": [
    "%ls runs/train/exp"
   ]
  },
  {
   "cell_type": "code",
   "execution_count": null,
   "id": "e72cfc71",
   "metadata": {},
   "outputs": [],
   "source": [
    "img = mpimg.imread('runs/train/exp/val_batch0_labels.jpg')\n",
    "figure_size = 15\n",
    "plt.figure(figsize=(figure_size,figure_size))\n",
    "imgplot = plt.imshow(img)\n",
    "plt.show()"
   ]
  },
  {
   "cell_type": "code",
   "execution_count": null,
   "id": "53fa7fd2",
   "metadata": {},
   "outputs": [],
   "source": [
    "img = mpimg.imread('runs/train/exp/train_batch0.jpg')\n",
    "figure_size = 10\n",
    "plt.figure(figsize=(figure_size,figure_size))\n",
    "imgplot = plt.imshow(img)\n",
    "plt.show()"
   ]
  },
  {
   "cell_type": "code",
   "execution_count": null,
   "id": "b0a13135",
   "metadata": {},
   "outputs": [],
   "source": [
    "img = mpimg.imread('runs/train/exp/train_batch1.jpg')\n",
    "figure_size = 8\n",
    "plt.figure(figsize=(figure_size,figure_size))\n",
    "imgplot = plt.imshow(img)\n",
    "plt.show()"
   ]
  },
  {
   "cell_type": "code",
   "execution_count": null,
   "id": "649c90da",
   "metadata": {},
   "outputs": [],
   "source": [
    "img = mpimg.imread('runs/train/exp/train_batch2.jpg')\n",
    "figure_size = 8\n",
    "plt.figure(figsize=(figure_size,figure_size))\n",
    "imgplot = plt.imshow(img)\n",
    "plt.show()"
   ]
  },
  {
   "cell_type": "code",
   "execution_count": null,
   "id": "e41f4f81",
   "metadata": {},
   "outputs": [],
   "source": [
    "img = mpimg.imread('runs/train/exp/F1_curve.png')\n",
    "figure_size = 10\n",
    "plt.figure(figsize=(figure_size,figure_size))\n",
    "imgplot = plt.imshow(img)\n",
    "plt.show()"
   ]
  },
  {
   "cell_type": "code",
   "execution_count": null,
   "id": "f3f31563",
   "metadata": {},
   "outputs": [],
   "source": [
    "img = mpimg.imread('runs/train/exp/PR_curve.png')\n",
    "figure_size = 10\n",
    "plt.figure(figsize=(figure_size,figure_size))\n",
    "imgplot = plt.imshow(img)\n",
    "plt.show()"
   ]
  },
  {
   "cell_type": "code",
   "execution_count": null,
   "id": "8bb0b0e8",
   "metadata": {},
   "outputs": [],
   "source": [
    "img = mpimg.imread('runs/train/exp/P_curve.png')\n",
    "figure_size = 10\n",
    "plt.figure(figsize=(figure_size,figure_size))\n",
    "imgplot = plt.imshow(img)\n",
    "plt.show()"
   ]
  },
  {
   "cell_type": "code",
   "execution_count": null,
   "id": "bab1495a",
   "metadata": {},
   "outputs": [],
   "source": [
    "img = mpimg.imread('runs/train/exp/R_curve.png')\n",
    "figure_size = 10\n",
    "plt.figure(figsize=(figure_size,figure_size))\n",
    "imgplot = plt.imshow(img)\n",
    "plt.show()\n"
   ]
  }
 ],
 "metadata": {
  "kernelspec": {
   "display_name": "Python 3 (ipykernel)",
   "language": "python",
   "name": "python3"
  },
  "language_info": {
   "codemirror_mode": {
    "name": "ipython",
    "version": 3
   },
   "file_extension": ".py",
   "mimetype": "text/x-python",
   "name": "python",
   "nbconvert_exporter": "python",
   "pygments_lexer": "ipython3",
   "version": "3.9.13"
  }
 },
 "nbformat": 4,
 "nbformat_minor": 5
}
